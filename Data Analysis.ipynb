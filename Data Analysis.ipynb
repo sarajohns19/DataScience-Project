{
 "cells": [
  {
   "cell_type": "markdown",
   "metadata": {},
   "source": [
    "## CS 5963 Project Milestone\n",
    "\n",
    "# New York City Schools Survey"
   ]
  },
  {
   "cell_type": "markdown",
   "metadata": {},
   "source": [
    "## **Group Members**  \n",
    "\n",
    "Kara Johnson (u0409733) - E-mail: kjohnson@sci.utah.edu   \n",
    "Sara Johnson (u0884127) - E-mail: sara.l.johnson@utah.edu"
   ]
  },
  {
   "cell_type": "markdown",
   "metadata": {},
   "source": [
    "### Background and Motivation\n",
    "\n",
    "Education is an important pillar in our society today. Many parents in America feel dissatisfied with the public school system. The goal of this project is to identify some factors which may contribute parent perceptions of their child's school. We will be using New York City as a model, as it has over 400 high schools and has made data from their annual school survey available for analysis. This survey collects responses to a number of questions pertaining to many aspects of education, but we are focusing on trust & family ties, safety, and personal attention & support as indicators of overall parent perception. We will investigate if parent perception of these aspects differ as a function of the school's location or educational opportunities such as AP courses or Career Training courses. By generating this predictive model, we can determine how to improve parent perceptions of schools in the future."
   ]
  },
  {
   "cell_type": "markdown",
   "metadata": {},
   "source": [
    "### Project Objectives\n",
    "\n",
    "**Objective 1.** We will be looking at the positive response rates that pertain to three \"Educational Elements\": Parent trust in the school, parent involvement, and parent response rate\n",
    "    - How do these elements relate to each other?\n",
    "    - How do these elements relate to the opportunities available at these schools (extracurriculars, AP classes, CTE)? \n",
    "    - How do these elements differ between boroughs and/or districts?   \n",
    "**Objective 2.** We are interested in looking at student perception of school safety a possible confounder in parent perceptions.\n",
    "\n",
    "**Objective 3.** Finally, we will determine which factors could potentially improve parent perceptions of our education system \n",
    "    - These factors include AP and Career training availability, attendance rate, graduation rate, and percentage of positive student answers \n"
   ]
  },
  {
   "cell_type": "markdown",
   "metadata": {},
   "source": [
    "### Data\n",
    "\n",
    "We collected and combined two datasets: the 2016 New York City School Survey, which collects student and parent responses to surveys about their school, and the High Schools At A Glance, which includes information about high school programs, Advanced Placement (AP) courses, and career training programs. These datasets are available online in Excel spreadsheet format.\n",
    "\n",
    "2016 New York City School Survey: http://schools.nyc.gov/Accountability/tools/survey/default.htm   \n",
    "High Schools At a Glance: http://schools.nyc.gov/ChoicesEnrollment/High/Resources/default.htm"
   ]
  },
  {
   "cell_type": "markdown",
   "metadata": {},
   "source": [
    "### Data Processing\n",
    "\n",
    "For the survey dataset, we selected a number of variables that we were interested in. These include:\n",
    "- Parent response rate\n",
    "- % Satisfaction with 'Collaborative Teachers'\n",
    "- % Satisfaction with 'School Leadership'\n",
    "- % Satisfaction with 'Rigorous Instruction'\n",
    "- % Satisfaction with 'Family-Community Ties'\n",
    "- % Satisfaction with 'Supportive Environment'\n",
    "- % Satisfaction with 'Trust'\n",
    "- % Overall Parent Satisfaction\n",
    "- % Overall Student Satisfaction\n",
    "\n",
    "We also removed all schools that do not correlate with the \"High School At a Glance\" dataset. This was performed by matching the school's unique DBN number provided in both datasets.   \n",
    "\n",
    "We also extracted other variables from the \"High School At a Glance\" dataset that we will use for performing our analysis. These include:\n",
    "- Borough\n",
    "- Number of Programs\n",
    "- Neighborhood\n",
    "- Graduation Rate \n",
    "- Attendance Rate\n",
    "- % Students who feel safe\n",
    "- AP Courses \n",
    "- CTE Programs"
   ]
  },
  {
   "cell_type": "code",
   "execution_count": null,
   "metadata": {
    "collapsed": false
   },
   "outputs": [],
   "source": [
    "import pandas as pd\n",
    "\n",
    "#NYC School Survery Import (HSS): \n",
    "RespRate = pd.read_excel(\"2016 NYC School Survey Public Data.xlsx\",sheetname = 0)\n",
    "\n",
    "#High Schools At a Glance Import (HSAAG): \n",
    "schools = pd.read_csv('HSAAG_data/HSAAG_Schools.csv', encoding='latin-1',header=0)"
   ]
  },
  {
   "cell_type": "code",
   "execution_count": null,
   "metadata": {
    "collapsed": false
   },
   "outputs": [],
   "source": [
    "import matplotlib.pyplot as plt\n",
    "%matplotlib inline\n",
    "plt.rcParams['figure.figsize'] = (10, 6)\n",
    "\n",
    "import matplotlib.pyplot as plt\n",
    "from matplotlib.colors import ListedColormap\n",
    "cmap = ListedColormap([\"#e41a1c\",\"#984ea3\",\"#a65628\",\"#377eb8\",\"#ffff33\",\"#4daf4a\",\"#ff7f00\"])\n",
    "\n",
    " \n",
    "# HSAAG - Keep columns of interest\n",
    "schools = pd.read_csv('HSAAG_data/HSAAG_Schools.csv', encoding='latin-1',header=0)\n",
    "schools.columns = ['rmv','School Name', 'DBN','Borough','Number of Programs','rmv2','rmv3', 'Neighborhood',\n",
    "                   'Graduation Rate','Attendance Rate', '% students who feel safe','AP Courses y/n',\n",
    "                   'rmv7', 'CTE y/n','rmv4', 'rmv5', 'rmv6']\n",
    "school_cols = ['DBN', 'Borough', 'Number of Programs','Neighborhood', 'Graduation Rate', \n",
    "               'Attendance Rate','% students who feel safe', 'AP Courses y/n','CTE y/n']\n",
    "\n",
    "schoolsDF = schools[school_cols]\n",
    "\n",
    "# HSAAG - Change 'Graduation Rate', 'Attendance Rate', and '% students who feel safe' to decimals\n",
    "\n",
    "schoolsDF['Graduation Rate'] = schoolsDF['Graduation Rate'].str.replace('%','').astype(float).apply(lambda x: x/100);\n",
    "schoolsDF['Attendance Rate'] = schoolsDF['Attendance Rate'].str.replace('%','').astype(float).apply(lambda x: x/100);\n",
    "schoolsDF['% students who feel safe'] = schoolsDF['% students who feel safe'].str.replace('%','').astype(float).apply(lambda x: x/100);\n",
    "\n",
    "# HSAAG - Change Yes to 1. NaNs in this dataset correspond to 'No', so set NaNs to 0\n",
    "# Index to DBN for easy comparison and merging of dataframes\n",
    "schoolsDF = schoolsDF.fillna(0).replace('Yes',1).set_index('DBN')\n",
    "\n",
    "# HSS - Keep columns of interest\n",
    "RespRate.columns = ['DBN','School Name', 'Parent RR','Teacher RR','Student RR','Collab. Teachers','School Leadership',\n",
    "                   'Rig. Instruction','Fam-Community Ties', 'Supportive Envment.','Trust','Parent PS',\n",
    "                   'Student PS', 'Teacher PS']\n",
    "RespRate_cols = ['DBN','Parent RR','Collab. Teachers','School Leadership','Rig. Instruction','Fam-Community Ties', \n",
    "                 'Supportive Envment.','Trust','Parent PS','Student PS']\n",
    "schools2 = RespRate[RespRate_cols]\n",
    "\n",
    "# Combine HSAAG and HSS by joining with School DBN as index \n",
    "schoolsN = schoolsDF.join(schools2.set_index('DBN'),how = 'inner')\n",
    "\n",
    "# Convert all non-strings to floats for easier processing \n",
    "schoolsN = schoolsN.apply(lambda x: pd.to_numeric(x,errors='ignore'))\n"
   ]
  },
  {
   "cell_type": "markdown",
   "metadata": {
    "collapsed": true
   },
   "source": [
    "### Exploratory Data Analysis\n",
    "\n",
    "First, using our combined dataframe, we generated a correlation matrix and scatter matrix to identify any promising correlations. We also calculated descriptive statistics of the variables to (1) make sure that the values are reasonable and (2) identify any interesting attributes. We also generated some preliminary cluster plots and heat maps to look at interesting relationships of variables with borough and/or neighborhood."
   ]
  },
  {
   "cell_type": "markdown",
   "metadata": {},
   "source": [
    "#### 1. Correlation Matrix of Dataframe Columns"
   ]
  },
  {
   "cell_type": "code",
   "execution_count": null,
   "metadata": {
    "collapsed": false
   },
   "outputs": [],
   "source": [
    "#cols2 = ['Number of Programs','Graduation Rate','Attendance Rate','% students who feel safe','Parent RR', 'Fam-Community Ties','Trust','Student PS']\n",
    "cols3 = [0,1,3,4,5,8,12,14,16]\n",
    "print(schoolsN[cols3].corr())\n",
    "pd.scatter_matrix(schoolsN[cols3],figsize=(12, 12), diagonal='hist');"
   ]
  },
  {
   "cell_type": "markdown",
   "metadata": {},
   "source": [
    "From the correlation and scatter matrices above, here are the most highly correlated variables (>0.30):\n",
    "\n",
    "1. Percent Satisfaction: Student and % Students Who Feel Safe (0.625)\n",
    "2. Percent Satisfaction: Trust and Percent Satisfaction: Student (0.605)\n",
    "3. Percent Satisfaction: Strong Family-Community Ties and Percent Satisfaction: Trust (0.497)\n",
    "4. Percent Satisfaction: Student and Total Parent Response Rate (0.468)\n",
    "5. Percent Satisfaction: Strong Family-Community Ties and Percent Satisfaction: Student (0.438)\n",
    "6. Graduation Rate and Attendance Rate (0.389)\n",
    "7. Percent Satisfaction: Strong Family-Community Ties and Total Parent Response Rate (0.380)\n",
    "8. Percent Satisfaction: Trust and % Students Who Feel Safe (0.348)\n",
    "9. Percent Satisfaction: Strong Family-Community Ties and % Students Who Feel Safe (0.313)\n",
    "\n"
   ]
  },
  {
   "cell_type": "markdown",
   "metadata": {},
   "source": [
    "#### 2. Descriptive Statistics"
   ]
  },
  {
   "cell_type": "code",
   "execution_count": null,
   "metadata": {
    "collapsed": false
   },
   "outputs": [],
   "source": [
    "schoolsN[cols3].describe()"
   ]
  },
  {
   "cell_type": "markdown",
   "metadata": {},
   "source": [
    "The descriptive statistics above show that some of the variables have high standard deviations, such as Number of Programs, Graduation Rate, and Total Parent Response Rate. Additionally, the mean Percent Satisfaction for the three educational elements we're interested in range from 72.0-82.3% with relatively low standard deviations (0.059-0.075). However, the ranges of these percentages are fairly high (with both low minimums and high maximums) and show some promise for analysis of why some schools yielded such low percentages.\n"
   ]
  },
  {
   "cell_type": "markdown",
   "metadata": {},
   "source": [
    "#### 3. Relationship of variables to borough/neighborhood\n",
    "\n",
    "To determine if trends vary across neighborhoods (neighborhoods with less than three schools are excluded from the analysis) and/or boroughs, the data is grouped by 'Neighborhood' and 'Borough.' The average Percent satisfaction for all six survery categories is plotted in a stacked bar graph to look for variability among neighborhoods and boroughs. \n",
    "\n"
   ]
  },
  {
   "cell_type": "code",
   "execution_count": null,
   "metadata": {
    "collapsed": false,
    "scrolled": true
   },
   "outputs": [],
   "source": [
    "import matplotlib.pyplot as plt\n",
    "import matplotlib\n",
    "matplotlib.style.use('ggplot')\n",
    "from pandas.tools.plotting import scatter_matrix\n",
    "import seaborn as sns\n",
    "sns.set()\n",
    "\n",
    "#[Borough                     438 non-null object\n",
    "#Number of Programs          438 non-null int64\n",
    "#Neighborhood                438 non-null object\n",
    "#Graduation Rate             438 non-null float64\n",
    "#Attendance Rate             438 non-null float64\n",
    "#% students who feel safe    438 non-null float64\n",
    "#AP Courses y/n              438 non-null int64\n",
    "#CTE y/n                     438 non-null int64\n",
    "#Parent RR                   438 non-null float64\n",
    "#Collab. Teachers            438 non-null float64\n",
    "#School Leadership           438 non-null float64\n",
    "#Rig. Instruction            438 non-null float64\n",
    "#Fam-Community Ties          438 non-null float64\n",
    "#Supportive Envment.         438 non-null float64\n",
    "#Trust                       438 non-null float64\n",
    "#Parent PS                   436 non-null float64\n",
    "#Student PS                  438 non-null float64]\n",
    "\n",
    "#Groupby Neighborhood in order to filter out groups smaller than 3\n",
    "schoolsHood = schoolsN.groupby(['Neighborhood']).filter(lambda g: len(g) >= 3)\n",
    "\n",
    "#Make df grouped by Neighboorhood (only Neighbors w/ >= 3 schools)\n",
    "schools_ByHood = schoolsHood.groupby(['Neighborhood']).mean()\n",
    "\n",
    "#Make stacked bar-graph using the GroupBy object \n",
    "dfplt = schools_ByHood[[7,9,10,11,12,13]]\n",
    "dfplt.plot.bar(stacked=True)\n",
    "#Make scatter plot matrix with cmap = Neighborhood\n",
    "#dfplt = schoolsHood[[2,8,9,10,11,12,13,14]]\n",
    "#pal = sns.palplot(sns.color_palette(\"husl\", len(schools_ByHood)))\n",
    "#sns.pairplot(dfplt,kind=\"scatter\",hue = 'Neighborhood',palette =pal)\n",
    "\n",
    "# Make df grouped by Borough\n",
    "schools_ByBorough = schoolsHood.groupby(['Borough']).mean()\n",
    "\n",
    "#Make stacked bar-graph using the GroupBy object \n",
    "dfplt = schools_ByBorough[[7,9,10,11,12,13]]\n",
    "dfplt.plot.bar(stacked=True)\n",
    "#Make scatter plot matrix with cmap = Neighborhood\n",
    "#dfplt = schoolsN[[0,8,9,10,11,12,13,14]]\n",
    "#pal = sns.palplot(sns.color_palette(\"husl\", len(schools_ByBorough)))\n",
    "#sns.pairplot(dfplt,kind=\"scatter\",hue = 'Borough',palette =pal)"
   ]
  },
  {
   "cell_type": "markdown",
   "metadata": {},
   "source": [
    "**(Might just get rid of the stacked barplots)** Neighborhoods, which make up the 6 different Boroughs, appear to be more variable in their percent satisfaction than the Boroughs. And all neighborhoods and boroughs appear to have the lowest satisfaction in Supportive Environment category. However, this exploratory analysis is limited by the small range of average percentage satifaction rates. \n",
    "\n",
    "Therefore, data columns were normalized to highlight cells which are above and below the average percent satisfaction rates. First, the variables are split between School Statistics (ie: graduation rate, attendance rate, etc), and Survey Results (ie: Percent Satisfaction: Rigorous Instruction). Pivot tables of the dataframe grouped by Neighborhood or Borough were created to allow heatmaps to be easily created in seaborn. The heatmaps show the data which was normalized column-wise and sorted by Parent Response Rate (Parent RR). "
   ]
  },
  {
   "cell_type": "code",
   "execution_count": null,
   "metadata": {
    "collapsed": false
   },
   "outputs": [],
   "source": [
    "import numpy as np\n",
    "dfplt = schoolsHood[[2,8,9,10,11,12,13,14,15]]\n",
    "dfplt2 = pd.pivot_table(dfplt,index = ['Neighborhood'])\n",
    "dfplt2 = dfplt2.sort_values(['Parent RR'],ascending=False)\n",
    "dfplt2 = dfplt2.apply(lambda x: (x - np.mean(x)) / (np.max(x) - np.min(x)))\n",
    "cols = dfplt2.columns.tolist()\n",
    "colsN = ['Parent RR','Collab. Teachers','Fam-Community Ties','Rig. Instruction',\n",
    "                                    'School Leadership','Supportive Envment.','Trust','Parent PS']\n",
    "dfplt3 = dfplt2[colsN]\n",
    "\n",
    "plt.rcParams['figure.figsize'] = [7,12]\n",
    "plt.figure(1)\n",
    "sns.set_context('notebook',font_scale=1)\n",
    "sns.heatmap(dfplt3,vmin=-.5,vmax=.5)\n"
   ]
  },
  {
   "cell_type": "code",
   "execution_count": null,
   "metadata": {
    "collapsed": false
   },
   "outputs": [],
   "source": [
    "dfplt = schoolsHood[[2,3,4,5,6,7,8]]\n",
    "dfplt2 = pd.pivot_table(dfplt,index = ['Neighborhood'])\n",
    "dfplt2 = dfplt2.sort_values(['Parent RR'],ascending=False)\n",
    "dfplt2 = dfplt2.apply(lambda x: (x - np.mean(x)) / (np.max(x) - np.min(x)))\n",
    "cols = dfplt2.columns.tolist()\n",
    "colsN = cols[-1:]+cols[:-1]\n",
    "dfplt3 = dfplt2[colsN]\n",
    "\n",
    "plt.rcParams['figure.figsize'] = [4,12]\n",
    "plt.figure(1)\n",
    "sns.set_context('notebook',font_scale=1)\n",
    "sns.heatmap(dfplt3,vmin=-.5,vmax=.5)\n"
   ]
  },
  {
   "cell_type": "code",
   "execution_count": null,
   "metadata": {
    "collapsed": false
   },
   "outputs": [],
   "source": [
    "dfplt = schoolsN[[0,8,9,10,11,12,13,14,15]]\n",
    "dfplt2 = pd.pivot_table(dfplt,index = ['Borough'])\n",
    "dfplt2 = dfplt2.sort_values(['Parent RR'],ascending=False)\n",
    "dfplt2 = dfplt2.apply(lambda x: (x - np.mean(x)) / (np.max(x) - np.min(x)))\n",
    "cols = dfplt2.columns.tolist()\n",
    "colsN = ['Parent RR','Collab. Teachers','Fam-Community Ties','Rig. Instruction',\n",
    "                                    'School Leadership','Supportive Envment.','Trust','Parent PS']\n",
    "dfplt3 = dfplt2[colsN]\n",
    "\n",
    "plt.rcParams['figure.figsize'] = [7,4]\n",
    "plt.figure(1)\n",
    "sns.set_context('notebook',font_scale=2)\n",
    "sns.heatmap(dfplt3,square=True,vmin=-.5,vmax=.5)\n"
   ]
  },
  {
   "cell_type": "code",
   "execution_count": null,
   "metadata": {
    "collapsed": false
   },
   "outputs": [],
   "source": [
    "dfplt = schoolsN[[0,3,4,5,6,7,8]]\n",
    "dfplt2 = pd.pivot_table(dfplt,index = ['Borough'])\n",
    "dfplt2 = dfplt2.sort_values(['Parent RR'],ascending=False)\n",
    "dfplt2 = dfplt2.apply(lambda x: (x - np.mean(x)) / (np.max(x) - np.min(x)))\n",
    "cols = dfplt2.columns.tolist()\n",
    "colsN = cols[-1:]+cols[:-1]\n",
    "dfplt3 = dfplt2[colsN]\n",
    "\n",
    "plt.rcParams['figure.figsize'] = [4,4]\n",
    "plt.figure(1)\n",
    "sns.set_context('notebook',font_scale=2)\n",
    "sns.heatmap(dfplt3,square=True,vmin=-.5,vmax=.5)"
   ]
  },
  {
   "cell_type": "markdown",
   "metadata": {},
   "source": [
    "Visually, it appears that neighboorhoods and boroughs with a lower Parent Response Rate (RR) also score lower in percent satisfaction of many categories, especially \"Supportive Environment.\" For individual neighborhoods, \"Trust\" and \"Collaborative Teachers\" seem to be less correlated to Parent RR. The Percent of Students Who Feel Safe seems to be more correlated to Parent RR than Graduation Rate or Attendance Rate. Also, interestingly, whether CTE programs are offered seems to be inversely related to Parent RR when grouped by Neighborhoods. Looking only at boroughs, Statten Island (SI) stands out more from the other buroughs. While there does not seem to be a strong trend between Percent Satisfaction and borough, there does seem to be a strong trend between School Statistics and borough, suggesting that parents are more concerned with more nuanced measures of school environment rather than the liklihood of their student to graduate or attend class, or the types of programs offered at the school. "
   ]
  },
  {
   "cell_type": "markdown",
   "metadata": {
    "collapsed": true
   },
   "source": [
    "#### 4. Preliminary clustering"
   ]
  },
  {
   "cell_type": "code",
   "execution_count": null,
   "metadata": {
    "collapsed": false
   },
   "outputs": [],
   "source": [
    "from sklearn.preprocessing import scale\n",
    "from sklearn.cluster import KMeans, AgglomerativeClustering\n",
    "from sklearn.decomposition import PCA\n",
    "\n",
    "# Scale the dataset, find PCA and transform coordinates\n",
    "schoolsScaled = scale(schoolsN[cols3])\n",
    "\n",
    "PCAmodel = PCA()\n",
    "schoolsPCA = PCAmodel.fit_transform(schoolsScaled)\n",
    "\n",
    "# create a new pandas dataframe \n",
    "\n",
    "PCAdf = pd.DataFrame(schoolsPCA, index=schoolsN.index,columns=['PC1','PC2','PC3','PC4','PC5','PC6','PC7','PC8'])\n",
    "PCAcols = ['PC1','PC2','PC3','PC4']\n",
    "score = []\n",
    "k = []\n",
    "\n",
    "# clustering for k = 1 to k = 15\n",
    "#for i in range(1,15):\n",
    " #   model = KMeans(n_clusters=i)\n",
    "#  model.fit_predict(PCAdf[PCAcols])\n",
    " #   score.append(model.score(PCAdf[PCAcols]))\n",
    "#  k.append(i)\n",
    "\n",
    "plt.plot(k, score)\n",
    "plt.ylabel('Inertia')\n",
    "plt.xlabel('k')\n",
    "plt.show()\n",
    "\n",
    "# k = 6\n",
    "km_model = KMeans(n_clusters=6)\n",
    "km_fit = km_model.fit_predict(PCAdf[PCAcols])\n",
    "\n",
    "plt.scatter(PCAdf['PC1'],PCAdf['PC2'],c=km_fit,cmap='gist_ncar',s=200)\n",
    "\n",
    "plt.xlabel('PC1')\n",
    "plt.ylabel('PC2')\n",
    "plt.show()"
   ]
  },
  {
   "cell_type": "markdown",
   "metadata": {
    "collapsed": true
   },
   "source": [
    "### Analysis Methodology\n",
    "\n",
    "Next, using our findings from our exploratory data analysis, we will move into the data analysis phase of our project. This phase includes the following objectives:\n",
    "\n",
    "For Objective 1:\n",
    "We will use multilinear regression to determine if there is any significant relationship between the three educational elements, i.e. if the answers to the questions pertaining to each element are correlated to one another. We will also use multilinear regression to determine if there is any significant relationship between the parents' perception of these elements and the opportunities available at the schools, i.e. if the answers to the questions pertaining to each element are correlated to the number of extracurricular activites, AP classes, and career training programs.\n",
    "\n",
    "For Objective 2:\n",
    "Using the multilinear regression models from Objective 1, we might be able to determine if safety perception is a confounder for parent trust in the school, involvement, and response rate.     \n",
    "\n",
    "For Objective 3: \n",
    "After performing multilinear regression, we will take the most significant variables and use the to build a model using a decision tree and support vector machines to predict positive parent response rates. To determine if there is a dependence of parent response on school location, we will add school boroughs and districts to determine which, if either, improves the predictive model."
   ]
  },
  {
   "cell_type": "code",
   "execution_count": null,
   "metadata": {
    "collapsed": true
   },
   "outputs": [],
   "source": []
  }
 ],
 "metadata": {
  "anaconda-cloud": {},
  "kernelspec": {
   "display_name": "Python [Root]",
   "language": "python",
   "name": "Python [Root]"
  },
  "language_info": {
   "codemirror_mode": {
    "name": "ipython",
    "version": 3
   },
   "file_extension": ".py",
   "mimetype": "text/x-python",
   "name": "python",
   "nbconvert_exporter": "python",
   "pygments_lexer": "ipython3",
   "version": "3.5.2"
  }
 },
 "nbformat": 4,
 "nbformat_minor": 0
}
