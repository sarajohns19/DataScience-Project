{
 "cells": [
  {
   "cell_type": "markdown",
   "metadata": {},
   "source": [
    "Preparation – were they prepared during team meetings?\n",
    "Contribution – did they contribute productively to the team discussion and work?\n",
    "Respect for others’ ideas – did they encourage others to contribute their ideas?\n",
    "Flexibility – were they flexible when disagreements occurred?\n",
    "\n",
    "Sara\n",
    "Preparation - Could have had a few more things done before meeting, but didn't interfere with meeting objectives\n",
    "Contribution - Brainstorming and work was divided essentially equally\n",
    "Respect - Yes, was willing to compromise on differences of approach and the scope of project\n",
    "Flexibility - Alsoilling to compromise or find a fitting solution to all problems \n",
    "\n",
    "Kara \n",
    "Preparation - well prepared for each meeting with tasks she said she would complete\n",
    "Contribution - Brainstorming and work was divided essentially equally\n",
    "Respect - Yes, was willing to compromise on differences of approach and the scope of project\n",
    "Flexibility - Willing to compromise or find a fitting solution to all problems "
   ]
  }
 ],
 "metadata": {
  "anaconda-cloud": {},
  "kernelspec": {
   "display_name": "Python [Root]",
   "language": "python",
   "name": "Python [Root]"
  },
  "language_info": {
   "codemirror_mode": {
    "name": "ipython",
    "version": 3
   },
   "file_extension": ".py",
   "mimetype": "text/x-python",
   "name": "python",
   "nbconvert_exporter": "python",
   "pygments_lexer": "ipython3",
   "version": "3.5.2"
  }
 },
 "nbformat": 4,
 "nbformat_minor": 0
}
