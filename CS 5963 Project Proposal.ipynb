{
 "cells": [
  {
   "cell_type": "markdown",
   "metadata": {},
   "source": [
    "## CS 5963 Project Proposal"
   ]
  },
  {
   "cell_type": "markdown",
   "metadata": {},
   "source": [
    "# New York City Schools Survey"
   ]
  },
  {
   "cell_type": "markdown",
   "metadata": {},
   "source": [
    "## **Group Members**  \n",
    "\n",
    "Kara Johnson (u0409733) - E-mail: kjohnson@sci.utah.edu   \n",
    "Sara Johnson (u0884127) - E-mail: sara.l.johnson@utah.edu"
   ]
  },
  {
   "cell_type": "markdown",
   "metadata": {},
   "source": [
    "### Background and Motivation\n",
    "\n",
    "Education is an important pillar in our society today. Many parents in America feel dissatisfied with the public school system. The goal of this project is to identify the factors that contribute parent perceptions of their child's school. We will be using New York City as a model, as it has over 400 high schools and has made data from their annual school survey available for analysis. This survey collects responses to a number of questions pertaining to many aspects of education, but we are focusing on trust & family ties, safety, and personal attention & support as indicators of overall parent perception. We will investigate if parent perception of these aspects differ as a function of the school's location or educational opportunities. By generating this predictive model, we can determine how to improve parent perceptions of schools in the future."
   ]
  },
  {
   "cell_type": "markdown",
   "metadata": {},
   "source": [
    "### Project Objectives\n",
    "\n",
    "**Objective 1.** We will be looking at the positive response rates that pertain to three \"Educational Elements\": Parent trust in the school, parent involvement, and parent response rate\n",
    "    - How do these elements relate to each other?\n",
    "    - How do these elements relate to the opportunities available at these schools (extracurriculars, AP classes, CTE)? \n",
    "    - How do these elements differ between boroughs and/or districts?   \n",
    "**Objective 2.** Is student perception of school safety a confounder in parent perception of their student's school?\n",
    "\n",
    "**Objective 3.** What are the factors that could potentially improve parent perceptions of our education system? \n",
    "    - Can you predict the percentage of positive responses with AP, extracurriculars, and percentage of positive student answers? \n"
   ]
  },
  {
   "cell_type": "markdown",
   "metadata": {},
   "source": [
    "### Data\n",
    "\n",
    "We are collecting and combining two datasets: the 2016 New York City School Survey, which collects student and parent responses to surveys about their school, and the High Schools At A Glance, which includes information about high school programs, Advanced Placement (AP) courses, and career training programs. These datasets are in Excel spreadsheet format.\n",
    "\n",
    "2016 New York City School Survey: http://schools.nyc.gov/Accountability/tools/survey/default.htm   \n",
    "High Schools At a Glance: http://schools.nyc.gov/ChoicesEnrollment/High/Resources/default.htm"
   ]
  },
  {
   "cell_type": "markdown",
   "metadata": {},
   "source": [
    "### Data Processing\n",
    "\n",
    "For the survey dataset, we will first hand pick questions that will serve as measures of the three education elements (Trust & Family Ties, Safety, and Personal Attention & Support). We will need the following data for each question:\n",
    "    - Total number of responses\n",
    "    - Percentage of responses that are positive (Agree/Strongly Agree) or negative (Disagree/Strongly Disagree)   \n",
    "    (Note: the percentage of \"I don't know\" responses are not included in this analysis.).\n",
    "    - Parent response rate for each school\n",
    "\n",
    "We will also need to remove all schools that do not correlate with the \"High School At a Glance\" dataset. This will be performed by matching the school's unique DBN number provided in both datasets.   \n",
    "\n",
    "We will also extract other variables that we will use for performing our analysis, which are found in the \"High School At a Glance\" dataset. These variables may include admissions method, interest area, number of AP courses offered, and whether or not the school has career training programs. For any categorical data, we will assign a number to each category. \n",
    "\n"
   ]
  },
  {
   "cell_type": "markdown",
   "metadata": {},
   "source": [
    "### Exploratory Analysis\n",
    "\n",
    "First, we will make a scatter matrix and correlation matrix to identify any promising correlations. We will also calculate descriptive statistics of the variables to (1) make sure that the values are reasonable and (2) identify any interesting attributes. We will also make some preliminary 3-D cluster plots and an overlay of pertinent variables on top of a New York City map.\n"
   ]
  },
  {
   "cell_type": "markdown",
   "metadata": {},
   "source": [
    "### Analysis Methodology\n",
    "\n",
    "For Objective 1:\n",
    "We will use multilinear regression to determine if there is any significant relationship between the three educational elements, i.e. if the answers to the questions pertaining to each element are correlated to one another. We will also use multilinear regression to determine if there is any significant relationship between the parents' perception of these elements and the opportunities available at the schools, i.e. if the answers to the questions pertaining to each element are correlated to the number of extracurricular activites, AP classes, and career training programs.\n",
    "\n",
    "For Objective 2:\n",
    "Using the multilinear regression models from Objective 1, we might be able to determine if safety perception is a confounder for parent trust in the school, involvement, and response rate.     \n",
    "\n",
    "For Objective 3: \n",
    "After performing multilinear regression, we will take the most significant variables and use the to build a model using a decision tree and support vector machines to predict positive parent response rates. To determine if there is a dependence of parent response on school location, we will add school boroughs and districts to determine which, if either, improves the predictive model.\n"
   ]
  },
  {
   "cell_type": "markdown",
   "metadata": {},
   "source": [
    "### Project Schedule\n",
    "\n",
    "Week 1 (Friday, Nov 4): Experiment with how to clean Excel datasets in Pandas. Pertinent data extracted from Excel and stored into Pandas dataframe(s).   \n",
    "\n",
    "Week 2 (Friday, Nov 11): Pandas data cleaned, have visuals generated for exploratory analysis. Reevaluate final analysis and make changes as needed.\n",
    "\n",
    "Week 3 (Friday, Nov 18): **Submit Project Milestone** Perform analysis for Objective 1 and Objective 2.\n",
    "\n",
    "Week 4 (Friday, Nov 25): Perform analysis for Objective 3. Make final visualizations, format Jupyter Notebook, begin compilings for our video.   \n",
    "\n",
    "Week 5 (Friday, Dec 2): Record video, **Submit Final Project**.\n"
   ]
  }
 ],
 "metadata": {
  "anaconda-cloud": {},
  "kernelspec": {
   "display_name": "Python [Root]",
   "language": "python",
   "name": "Python [Root]"
  },
  "language_info": {
   "codemirror_mode": {
    "name": "ipython",
    "version": 3
   },
   "file_extension": ".py",
   "mimetype": "text/x-python",
   "name": "python",
   "nbconvert_exporter": "python",
   "pygments_lexer": "ipython3",
   "version": "3.5.2"
  }
 },
 "nbformat": 4,
 "nbformat_minor": 0
}
