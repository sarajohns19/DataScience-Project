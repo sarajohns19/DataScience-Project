{
 "cells": [
  {
   "cell_type": "markdown",
   "metadata": {},
   "source": [
    "### Cleaning Highschool Survey Data\n",
    "\n"
   ]
  },
  {
   "cell_type": "code",
   "execution_count": null,
   "metadata": {
    "collapsed": false
   },
   "outputs": [],
   "source": [
    "import pandas as pd\n",
    "\n",
    "RespRate = pd.read_excel(\"2016 NYC School Survey Public Data.xlsx\",sheetname = 0)\n",
    "ParentPctBinary = pd.read_excel(\"2016 NYC School Survey Public Data.xlsx\",sheetname = 7,header = [0,1])\n",
    "ParentNumBinary = pd.read_excel(\"2016 NYC School Survey Public Data.xlsx\",sheetname = 8,header = [0,1])\n",
    "StudentPctBinary = pd.read_excel(\"2016 NYC School Survey Public Data.xlsx\",sheetname = 11,header = [0,1])\n",
    "StudentNumBinary = pd.read_excel(\"2016 NYC School Survey Public Data.xlsx\",sheetname = 12,header = [0,1])\n",
    "\n"
   ]
  },
  {
   "cell_type": "code",
   "execution_count": null,
   "metadata": {
    "collapsed": true
   },
   "outputs": [],
   "source": []
  },
  {
   "cell_type": "code",
   "execution_count": null,
   "metadata": {
    "collapsed": true
   },
   "outputs": [],
   "source": []
  }
 ],
 "metadata": {
  "anaconda-cloud": {},
  "kernelspec": {
   "display_name": "Python [Root]",
   "language": "python",
   "name": "Python [Root]"
  },
  "language_info": {
   "codemirror_mode": {
    "name": "ipython",
    "version": 3
   },
   "file_extension": ".py",
   "mimetype": "text/x-python",
   "name": "python",
   "nbconvert_exporter": "python",
   "pygments_lexer": "ipython3",
   "version": "3.5.2"
  }
 },
 "nbformat": 4,
 "nbformat_minor": 0
}
