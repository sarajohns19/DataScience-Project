{
 "cells": [
  {
   "cell_type": "markdown",
   "metadata": {},
   "source": [
    "### Peer Feedback\n",
    "\n",
    "Reviewer: Kara Johnson      \n",
    "Group member: Sara Johnson   \n",
    "   \n",
    "**Preparation**: I felt that both Sara and I were both sufficiently prepared for our meetings. We usually planned out what we were going to have done before our meeting so that we could go over our progress and talk about future directions.   \n",
    "   \n",
    "**Contribution**: I felt that both Sara and I equally contributed to this project. I did most of the data cleaning while Sara performed much of the exploratory data analysis. We equally contributed to the analysis portion of our project and we worked together on putting together the slides for our screencast. I recorded the screencast, but I basically just read from a script that we both wrote.   \n",
    "   \n",
    "**Respect for others’ ideas**: We had no issues with conflicting ideas -- I felt that we worked well together and we listened well to each other's ideas and ultimately agreed.   \n",
    "   \n",
    "**Flexibility**: I think that both Sara and I were flexible on this project. It was easy to find times to meet and though we ended up changing the direction of this project a few times, we both adapted easily and had no issues."
   ]
  }
 ],
 "metadata": {
  "kernelspec": {
   "display_name": "Python [Root]",
   "language": "python",
   "name": "Python [Root]"
  },
  "language_info": {
   "codemirror_mode": {
    "name": "ipython",
    "version": 3
   },
   "file_extension": ".py",
   "mimetype": "text/x-python",
   "name": "python",
   "nbconvert_exporter": "python",
   "pygments_lexer": "ipython3",
   "version": "3.5.2"
  }
 },
 "nbformat": 4,
 "nbformat_minor": 0
}
